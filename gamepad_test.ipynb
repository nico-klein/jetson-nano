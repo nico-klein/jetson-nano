{
 "cells": [
  {
   "cell_type": "code",
   "execution_count": 28,
   "metadata": {},
   "outputs": [
    {
     "name": "stdout",
     "output_type": "stream",
     "text": [
      "/dev/input/event0  /dev/input/event1  /dev/input/event2\n"
     ]
    }
   ],
   "source": [
    "import time, os, subprocess\n",
    "from utils.gamepad import Gamepad\n",
    "\n",
    "# the lib is created for a PS5 controller. Other types could wor alsso but have other button (ids)\n",
    "\n",
    "# check connected input devices. One of eventX should be the gamepad\n",
    "!ls /dev/input/ev*"
   ]
  },
  {
   "cell_type": "code",
   "execution_count": 15,
   "metadata": {},
   "outputs": [],
   "source": [
    "gamepad = Gamepad('/dev/input/event2')"
   ]
  },
  {
   "cell_type": "code",
   "execution_count": 27,
   "metadata": {},
   "outputs": [
    {
     "name": "stdout",
     "output_type": "stream",
     "text": [
      "[]\n",
      "[]\n",
      "[309]\n",
      "[]\n",
      "[311]\n",
      "[311]\n",
      "[315]\n",
      "[]\n",
      "[]\n",
      "[]\n"
     ]
    }
   ],
   "source": [
    "# test keys 10 times. more than one key can be pressed at the same time \n",
    "for _ in range(10):\n",
    "    print(gamepad.get_active_keys())\n",
    "    time.sleep(1)\n"
   ]
  },
  {
   "cell_type": "code",
   "execution_count": 26,
   "metadata": {},
   "outputs": [
    {
     "name": "stdout",
     "output_type": "stream",
     "text": [
      "130 130\n",
      "130 130\n",
      "123 126\n",
      "0 104\n",
      "130 0\n",
      "120 255\n",
      "120 218\n",
      "127 131\n",
      "127 131\n",
      "127 131\n"
     ]
    }
   ],
   "source": [
    "for _ in range(10):\n",
    "    print(gamepad.get_analog_value(2),gamepad.get_analog_value(5))\n",
    "    time.sleep(1)"
   ]
  },
  {
   "cell_type": "code",
   "execution_count": null,
   "metadata": {},
   "outputs": [],
   "source": []
  }
 ],
 "metadata": {
  "kernelspec": {
   "display_name": "Python 3",
   "language": "python",
   "name": "python3"
  },
  "language_info": {
   "codemirror_mode": {
    "name": "ipython",
    "version": 3
   },
   "file_extension": ".py",
   "mimetype": "text/x-python",
   "name": "python",
   "nbconvert_exporter": "python",
   "pygments_lexer": "ipython3",
   "version": "3.6.9"
  }
 },
 "nbformat": 4,
 "nbformat_minor": 4
}

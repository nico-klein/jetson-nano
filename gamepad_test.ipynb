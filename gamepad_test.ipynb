{
 "cells": [
  {
   "cell_type": "code",
   "execution_count": 1,
   "metadata": {},
   "outputs": [
    {
     "name": "stdout",
     "output_type": "stream",
     "text": [
      "/dev/input/event0  /dev/input/event2  /dev/input/event4\n",
      "/dev/input/event1  /dev/input/event3\n"
     ]
    }
   ],
   "source": [
    "import time, os, subprocess\n",
    "from utils.gamepad import Gamepad, XBoxController, PS5DualSense\n",
    "\n",
    "# the lib is created for a PS5 controller. Other types could wor alsso but have other button (ids)\n",
    "\n",
    "# check connected input devices. One of eventX should be the gamepad\n",
    "!ls /dev/input/ev*"
   ]
  },
  {
   "cell_type": "code",
   "execution_count": 2,
   "metadata": {},
   "outputs": [],
   "source": [
    "gamepad = Gamepad('/dev/input/event4')"
   ]
  },
  {
   "cell_type": "code",
   "execution_count": 3,
   "metadata": {},
   "outputs": [
    {
     "name": "stdout",
     "output_type": "stream",
     "text": [
      "[]\n",
      "[304]\n",
      "[305]\n",
      "[]\n",
      "[]\n",
      "[]\n",
      "[]\n",
      "[]\n",
      "[]\n",
      "[]\n"
     ]
    }
   ],
   "source": [
    "# test keys 10 times. more than one key can be pressed at the same time \n",
    "for _ in range(10):\n",
    "    print(gamepad.get_active_keys())\n",
    "    time.sleep(1)\n"
   ]
  },
  {
   "cell_type": "code",
   "execution_count": 20,
   "metadata": {},
   "outputs": [
    {
     "name": "stdout",
     "output_type": "stream",
     "text": [
      "23 68\n",
      "23 68\n",
      "-8806 -32768\n",
      "-10124 -32768\n",
      "2073 32767\n",
      "-694 32767\n",
      "-32768 1822\n",
      "-32768 2628\n",
      "32767 -1520\n",
      "-3380 -681\n"
     ]
    }
   ],
   "source": [
    "for _ in range(10):\n",
    "    print(gamepad.get_analog_value(3),gamepad.get_analog_value(4))\n",
    "    time.sleep(1)"
   ]
  },
  {
   "cell_type": "code",
   "execution_count": 4,
   "metadata": {},
   "outputs": [
    {
     "name": "stdout",
     "output_type": "stream",
     "text": [
      "304\n"
     ]
    }
   ],
   "source": [
    "print(XBoxController.BUTTON_A)"
   ]
  },
  {
   "cell_type": "code",
   "execution_count": null,
   "metadata": {},
   "outputs": [],
   "source": []
  }
 ],
 "metadata": {
  "kernelspec": {
   "display_name": "Python 3",
   "language": "python",
   "name": "python3"
  },
  "language_info": {
   "codemirror_mode": {
    "name": "ipython",
    "version": 3
   },
   "file_extension": ".py",
   "mimetype": "text/x-python",
   "name": "python",
   "nbconvert_exporter": "python",
   "pygments_lexer": "ipython3",
   "version": "3.6.9"
  }
 },
 "nbformat": 4,
 "nbformat_minor": 4
}

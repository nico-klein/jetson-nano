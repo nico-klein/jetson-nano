{
 "cells": [
  {
   "cell_type": "code",
   "execution_count": 10,
   "metadata": {},
   "outputs": [
    {
     "name": "stdout",
     "output_type": "stream",
     "text": [
      "/dev/input/event0  /dev/input/event1  /dev/input/event2  /dev/input/event3\r\n"
     ]
    }
   ],
   "source": [
    "import sys, time, os, subprocess\n",
    "sys.path.append('../')\n",
    "\n",
    "from utils.gamepad import Gamepad, XBoxController, PS5DualSense\n",
    "\n",
    "# check connected input devices. One of eventX should be the gamepad\n",
    "!ls /dev/input/ev*\n",
    "#!cat /proc/bus/input/devices"
   ]
  },
  {
   "cell_type": "code",
   "execution_count": 11,
   "metadata": {},
   "outputs": [],
   "source": [
    "gamepad = Gamepad('/dev/input/event3')"
   ]
  },
  {
   "cell_type": "code",
   "execution_count": 28,
   "metadata": {},
   "outputs": [
    {
     "name": "stdout",
     "output_type": "stream",
     "text": [
      "[]\n",
      "[]\n",
      "[304]\n",
      "[305]\n",
      "[308]\n",
      "[307]\n",
      "[]\n",
      "[311]\n",
      "[310]\n",
      "[310, 311]\n"
     ]
    }
   ],
   "source": [
    "# test keys. more than one key can be pressed at the same time \n",
    "# not all keys are working\n",
    "for _ in range(10):\n",
    "    print(gamepad.get_active_keys())\n",
    "    time.sleep(1)\n"
   ]
  },
  {
   "cell_type": "code",
   "execution_count": 27,
   "metadata": {},
   "outputs": [
    {
     "name": "stdout",
     "output_type": "stream",
     "text": [
      "[' -1227', '  1319', '     0', '   298', '   425', '     0']\n",
      "[' -1227', '  1319', '     0', '   298', '   425', '     0']\n",
      "[' -1227', '  1319', '     0', '   298', '   425', '  1023']\n",
      "['  2978', '-32768', '     0', '   298', '   425', '     0']\n",
      "['  4296', ' 32767', '     0', '   298', '   425', '     0']\n",
      "['-32768', ' -7435', '     0', '  1241', '  1062', '     0']\n",
      "['  -246', '  -201', '     0', ' 32767', ' -6912', '     0']\n",
      "['   -84', '  -180', '     0', '  1104', ' 32767', '     0']\n",
      "['   -84', '  -180', '     0', '   -29', '  -352', '     0']\n",
      "['   -84', '  -180', '     0', '   -29', '  -352', '     0']\n"
     ]
    }
   ],
   "source": [
    "# check anlog axis\n",
    "for _ in range(10):\n",
    "    print([f'{gamepad.get_analog_value(i): 6d}' for i in range(6)])\n",
    "    time.sleep(1)"
   ]
  },
  {
   "cell_type": "code",
   "execution_count": null,
   "metadata": {},
   "outputs": [],
   "source": []
  }
 ],
 "metadata": {
  "kernelspec": {
   "display_name": "Python 3",
   "language": "python",
   "name": "python3"
  },
  "language_info": {
   "codemirror_mode": {
    "name": "ipython",
    "version": 3
   },
   "file_extension": ".py",
   "mimetype": "text/x-python",
   "name": "python",
   "nbconvert_exporter": "python",
   "pygments_lexer": "ipython3",
   "version": "3.6.9"
  }
 },
 "nbformat": 4,
 "nbformat_minor": 4
}

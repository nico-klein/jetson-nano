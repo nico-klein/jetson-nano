{
 "cells": [
  {
   "cell_type": "code",
   "execution_count": 1,
   "id": "danish-hungarian",
   "metadata": {},
   "outputs": [],
   "source": [
    "import sys, time, os, subprocess\n",
    "sys.path.append('../')\n",
    "\n",
    "from utils.oled import Oled_display"
   ]
  },
  {
   "cell_type": "code",
   "execution_count": 2,
   "id": "monetary-reviewer",
   "metadata": {},
   "outputs": [],
   "source": [
    "def test_display(i2c_bus, oled_type):\n",
    "    oled = Oled_display(i2c_bus, oled_type)\n",
    "    \n",
    "    oled.draw_text(['aa'], 1)\n",
    "    time.sleep(1)\n",
    "    oled.draw_text(['aa', 'bb'], 2)\n",
    "    time.sleep(1)\n",
    "    oled.draw_text(['aa', 'bb', 'cc', 'dd'], 4)\n",
    "    time.sleep(1)\n",
    "    oled.draw_text(['aaaaa', '','','','','','','bbbbbb'], 8)\n",
    "    time.sleep(1)\n",
    "    oled.clear()"
   ]
  },
  {
   "cell_type": "markdown",
   "id": "considerable-tokyo",
   "metadata": {},
   "source": [
    "# display 128x64 on bus 0"
   ]
  },
  {
   "cell_type": "code",
   "execution_count": 3,
   "id": "decreased-spell",
   "metadata": {},
   "outputs": [],
   "source": [
    "test_display(0, 'SSD1306_128_64')"
   ]
  },
  {
   "cell_type": "markdown",
   "id": "active-memory",
   "metadata": {},
   "source": [
    "# display 128x64 on bus 1"
   ]
  },
  {
   "cell_type": "code",
   "execution_count": 7,
   "id": "pretty-objective",
   "metadata": {},
   "outputs": [],
   "source": [
    "test_display(1, 'SSD1306_128_64')"
   ]
  },
  {
   "cell_type": "markdown",
   "id": "improving-maximum",
   "metadata": {},
   "source": [
    "# display 128x32 on bus 1"
   ]
  },
  {
   "cell_type": "code",
   "execution_count": 4,
   "id": "behavioral-strength",
   "metadata": {},
   "outputs": [],
   "source": [
    "test_display(0, 'SSD1306_128_32')"
   ]
  },
  {
   "cell_type": "markdown",
   "id": "moved-technique",
   "metadata": {},
   "source": [
    "## 2 displays at same time"
   ]
  },
  {
   "cell_type": "code",
   "execution_count": 14,
   "id": "personalized-breed",
   "metadata": {},
   "outputs": [],
   "source": [
    "oled_r = Oled_display(0, 'SSD1306_128_64')\n",
    "oled_l = Oled_display(1, 'SSD1306_128_64')\n",
    "\n",
    "oled_l.draw_text(['0123456', 'ABCDEF'], 2)\n",
    "oled_r.draw_text(['789+-?=', 'GHIJKL'], 2)\n",
    "\n",
    "\n",
    "\n"
   ]
  },
  {
   "cell_type": "markdown",
   "id": "iraqi-glasgow",
   "metadata": {},
   "source": [
    "# play with graphics"
   ]
  },
  {
   "cell_type": "code",
   "execution_count": 21,
   "id": "circular-satin",
   "metadata": {},
   "outputs": [],
   "source": [
    "from PIL import Image, ImageDraw, ImageFont\n",
    "oled = Oled_display(0, 'SSD1306_128_64')\n",
    "disp = oled.get_display()\n",
    "image = Image.new('1', (disp.width, disp.height))\n",
    "draw = ImageDraw.Draw(image)"
   ]
  },
  {
   "cell_type": "code",
   "execution_count": 31,
   "id": "resistant-texas",
   "metadata": {},
   "outputs": [],
   "source": [
    "def draw_line(x, y):\n",
    "    draw.rectangle((0 ,0 ,disp.width, disp.height), outline=0, fill=0) \n",
    "    draw.line((\n",
    "        disp.width / 2, \n",
    "        disp.height / 2,\n",
    "        (x + 100) * disp.width / 200,\n",
    "        (y * -1 + 100) * disp.height / 200,\n",
    "    ) , fill=128)\n",
    "    disp.image(image)\n",
    "    disp.display()\n",
    "# draw.line((0, im.size[1], im.size[0], 0), fill=128)"
   ]
  },
  {
   "cell_type": "code",
   "execution_count": 45,
   "id": "christian-moore",
   "metadata": {},
   "outputs": [],
   "source": [
    "for i in range(360):\n",
    "    x = math.cos(i * math.pi / 2 / 90) * 100\n",
    "    y = math.sin(i * math.pi / 2 / 90) * 100\n",
    "    draw_line(x, y)"
   ]
  }
 ],
 "metadata": {
  "kernelspec": {
   "display_name": "Python 3",
   "language": "python",
   "name": "python3"
  },
  "language_info": {
   "codemirror_mode": {
    "name": "ipython",
    "version": 3
   },
   "file_extension": ".py",
   "mimetype": "text/x-python",
   "name": "python",
   "nbconvert_exporter": "python",
   "pygments_lexer": "ipython3",
   "version": "3.6.9"
  }
 },
 "nbformat": 4,
 "nbformat_minor": 5
}

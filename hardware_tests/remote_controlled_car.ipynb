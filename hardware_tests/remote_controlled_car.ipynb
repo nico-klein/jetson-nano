{
 "cells": [
  {
   "cell_type": "code",
   "execution_count": 7,
   "metadata": {},
   "outputs": [],
   "source": [
    "# TODO steering"
   ]
  },
  {
   "cell_type": "code",
   "execution_count": 2,
   "metadata": {},
   "outputs": [
    {
     "name": "stdout",
     "output_type": "stream",
     "text": [
      "/dev/input/event0  /dev/input/event1  /dev/input/event2  /dev/input/event3\r\n"
     ]
    }
   ],
   "source": [
    "import sys, time, os, subprocess\n",
    "sys.path.append('../')\n",
    "from utils.gamepad import Gamepad, XBoxController, PS5DualSense\n",
    "from utils.motor import Motor\n",
    "# check connected input devices. One of eventX should be the gamepad\n",
    "!ls /dev/input/ev*"
   ]
  },
  {
   "cell_type": "code",
   "execution_count": 3,
   "metadata": {},
   "outputs": [],
   "source": [
    "# init motor and gamepad\n",
    "motor1 = Motor(channel=1, alpha=0.1, offset=0.1, debug=False)\n",
    "motor2 = Motor(channel=2, alpha=0.1, offset=0.1, debug=False)\n",
    "gamepad = XBoxController('/dev/input/event3')"
   ]
  },
  {
   "cell_type": "code",
   "execution_count": 4,
   "metadata": {},
   "outputs": [],
   "source": [
    "while True:\n",
    "    pressed_keys = gamepad.get_active_keys()\n",
    "    # stop when B button pressed\n",
    "    if (XBoxController.BUTTON_B in pressed_keys):\n",
    "        break\n",
    "    r2 = gamepad.get_analog_value(XBoxController.ANALOG_RT)\n",
    "    l2 = gamepad.get_analog_value(XBoxController.ANALOG_LT)\n",
    "    direction = gamepad.get_analog_value(XBoxController.ANALOG_L_SIDE)\n",
    "    \n",
    "    if r2 > 0:\n",
    "        motor1.drive(r2 / 255.0)\n",
    "        motor2.drive(r2 / 255.0)\n",
    "    elif l2 > 0:\n",
    "        motor1.drive(-1 * l2 / 255.0)\n",
    "        motor2.drive(-1 * l2 / 255.0)\n",
    "    else:\n",
    "        motor1.drive(0.0)\n",
    "        motor2.drive(0.0)\n",
    "    \n",
    "motor1.stop()\n",
    "motor2.stop()"
   ]
  },
  {
   "cell_type": "code",
   "execution_count": null,
   "metadata": {},
   "outputs": [],
   "source": []
  }
 ],
 "metadata": {
  "kernelspec": {
   "display_name": "Python 3",
   "language": "python",
   "name": "python3"
  },
  "language_info": {
   "codemirror_mode": {
    "name": "ipython",
    "version": 3
   },
   "file_extension": ".py",
   "mimetype": "text/x-python",
   "name": "python",
   "nbconvert_exporter": "python",
   "pygments_lexer": "ipython3",
   "version": "3.6.9"
  }
 },
 "nbformat": 4,
 "nbformat_minor": 4
}

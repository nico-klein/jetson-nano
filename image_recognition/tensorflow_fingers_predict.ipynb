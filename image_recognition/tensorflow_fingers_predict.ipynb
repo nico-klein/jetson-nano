{
 "cells": [
  {
   "cell_type": "markdown",
   "id": "weird-travel",
   "metadata": {},
   "source": [
    "# still in experiment phase-  not working"
   ]
  },
  {
   "cell_type": "code",
   "execution_count": 16,
   "id": "special-cooler",
   "metadata": {},
   "outputs": [],
   "source": [
    "import matplotlib.pyplot as plt\n",
    "from PIL import Image\n",
    "import cv2\n",
    "import os, sys, time\n",
    "import numpy as np\n",
    "import pandas as pd\n",
    "sys.path.append('../')\n",
    "from utils.camera import Camera\n",
    "import tensorflow as tf\n",
    "from tensorflow import keras\n",
    "from IPython.display import display\n",
    "import ipywidgets.widgets as widgets\n",
    "# import warnings\n",
    "#warnings.filterwarnings('ignore')"
   ]
  },
  {
   "cell_type": "code",
   "execution_count": 2,
   "id": "confused-major",
   "metadata": {},
   "outputs": [],
   "source": [
    "base_model_class = keras.applications.MobileNetV2\n",
    "base_model_preprocess_function = keras.applications.mobilenet_v2.preprocess_input\n",
    "\n",
    "#base_model_class = keras.applications.InceptionV3\n",
    "#base_model_preprocess_function = keras.applications.inception_v3.preprocess_input"
   ]
  },
  {
   "cell_type": "code",
   "execution_count": 3,
   "id": "adjusted-painting",
   "metadata": {},
   "outputs": [],
   "source": [
    "model = keras.models.load_model(f'../models/model_fingers_{base_model_class.__name__}')"
   ]
  },
  {
   "cell_type": "code",
   "execution_count": 4,
   "id": "ranging-classification",
   "metadata": {},
   "outputs": [],
   "source": [
    "# preprocess\n",
    "def preprocess_image(img):\n",
    "    start_time= time.time()\n",
    "    img = img.resize(tuple(model.input.shape)[1:3])\n",
    "    img_array = np. array(img)\n",
    "    img_array = img_array.reshape(1, model.input.shape[1], model.input.shape[2], model.input.shape[3])\n",
    "    img_array = base_model_preprocess_function(img_array)\n",
    "    duration = time.time() - start_time\n",
    "    return img_array, duration  "
   ]
  },
  {
   "cell_type": "code",
   "execution_count": 5,
   "id": "demographic-monthly",
   "metadata": {},
   "outputs": [],
   "source": [
    "# predict\n",
    "def predict_from_image_array(img_array):\n",
    "    start_time= time.time()\n",
    "    pred_proba = model.predict(img_array)\n",
    "    duration = time.time() - start_time\n",
    "    return pd.DataFrame({\n",
    "        'label' : [labels[i] for i in labels.keys()],\n",
    "        'proba' : list(pred_proba[0])}), duration"
   ]
  },
  {
   "cell_type": "code",
   "execution_count": 6,
   "id": "therapeutic-perfume",
   "metadata": {},
   "outputs": [],
   "source": [
    "labels = {i: str(i) for i in range(6)}"
   ]
  },
  {
   "cell_type": "markdown",
   "id": "homeless-liability",
   "metadata": {},
   "source": [
    "# initialize camera"
   ]
  },
  {
   "cell_type": "code",
   "execution_count": 14,
   "id": "portuguese-visibility",
   "metadata": {},
   "outputs": [
    {
     "name": "stdout",
     "output_type": "stream",
     "text": [
      "v4l2src device=/dev/video2 ! video/x-raw, width=(int)2304, height=(int)1536, framerate=(fraction)2/1                     ! videoconvert !  video/x-raw, format=(string)BGR ! appsink drop=true sync=false\n"
     ]
    }
   ],
   "source": [
    "# usb camera '/dev/video2'\n",
    "camera = Camera(capture_device=2, width=224, height=224, \n",
    "                     capture_width=2304, capture_height=1536, capture_fps=2, flip_mode=1, debug=True, \n",
    "                     is_internal_camera=False)"
   ]
  },
  {
   "cell_type": "markdown",
   "id": "checked-dallas",
   "metadata": {},
   "source": [
    "# calibrate preprocessing\n",
    "the net was trained with photos linke this"
   ]
  },
  {
   "cell_type": "code",
   "execution_count": 95,
   "id": "associate-cosmetic",
   "metadata": {},
   "outputs": [],
   "source": [
    "def calibrate_photo(img):\n",
    "    lower = np.array([hue_min_widget.value, sat_min_widget.value, val_min_widget.value])\n",
    "    upper = np.array([hue_max_widget.value, sat_max_widget.value, val_max_widget.value])\n",
    "    img_hsv = cv2.cvtColor(img, cv2.COLOR_BGR2HSV)\n",
    "    mask = cv2.inRange(img_hsv, lower, upper)\n",
    "    img_result = cv2.bitwise_and(img, img, mask=mask)\n",
    "    img_result = cv2.cvtColor(img_result, cv2.COLOR_BGR2GRAY)\n",
    "    return img_result"
   ]
  },
  {
   "cell_type": "code",
   "execution_count": 101,
   "id": "advanced-warehouse",
   "metadata": {},
   "outputs": [],
   "source": [
    "def on_change(b):\n",
    "    global img\n",
    "    # button pressed for new photo\n",
    "    try :\n",
    "        if b.description == 'new photo':\n",
    "            img = camera.get_image_bgr()\n",
    "    except:\n",
    "        pass\n",
    "    \n",
    "    image_widget.value = bytes(cv2.imencode('.jpg', calibrate_photo(img))[1])"
   ]
  },
  {
   "cell_type": "code",
   "execution_count": 102,
   "id": "political-burden",
   "metadata": {},
   "outputs": [],
   "source": [
    "sample_image_widget = widgets.Image(format='jpeg', width=224, height=224)\n",
    "image_widget = widgets.Image(format='jpeg', width=224, height=224)\n",
    "hue_min_widget = widgets.IntSlider(min=0, max=255, value=0  , description='hue_min')\n",
    "hue_max_widget = widgets.IntSlider(min=0, max=255, value=200, description='hue_max')\n",
    "sat_min_widget = widgets.IntSlider(min=0, max=255, value=20  , description='sat_min')\n",
    "sat_max_widget = widgets.IntSlider(min=0, max=255, value=200, description='sat_max')\n",
    "val_min_widget = widgets.IntSlider(min=0, max=255, value=4  , description='val_min')\n",
    "val_max_widget = widgets.IntSlider(min=0, max=255, value=200, description='val_max')\n",
    "new_photo_widget = widgets.Button(value='take new photo', description='new photo')\n",
    "\n",
    "hue_min_widget.observe(on_change)\n",
    "hue_max_widget.observe(on_change)\n",
    "sat_min_widget.observe(on_change)\n",
    "sat_max_widget.observe(on_change)\n",
    "val_min_widget.observe(on_change)\n",
    "val_max_widget.observe(on_change)\n",
    "new_photo_widget.on_click(on_change)\n",
    "\n",
    "sample_image_widget.value = bytes(cv2.imencode('.jpg', cv2.imread('../images/finger_3.png'))[1])"
   ]
  },
  {
   "cell_type": "code",
   "execution_count": 103,
   "id": "crude-clarity",
   "metadata": {},
   "outputs": [
    {
     "data": {
      "text/plain": [
       "'left is tranilng like image. right a pictiure fom camera. Please adjust'"
      ]
     },
     "metadata": {},
     "output_type": "display_data"
    },
    {
     "data": {
      "application/vnd.jupyter.widget-view+json": {
       "model_id": "322e1d9302c84bb18f2781cffb78c500",
       "version_major": 2,
       "version_minor": 0
      },
      "text/plain": [
       "HBox(children=(Image(value=b'\\xff\\xd8\\xff\\xe0\\x00\\x10JFIF\\x00\\x01\\x01\\x00\\x00\\x01\\x00\\x01\\x00\\x00\\xff\\xdb\\x00C…"
      ]
     },
     "metadata": {},
     "output_type": "display_data"
    }
   ],
   "source": [
    "display(\"left is tranilng like image. right a pictiure fom camera. Please adjust\", widgets.HBox([sample_image_widget, \n",
    "                      widgets.VBox([new_photo_widget,\n",
    "                                    hue_min_widget, \n",
    "                                    hue_max_widget,\n",
    "                                    sat_min_widget, \n",
    "                                    sat_max_widget,\n",
    "                                    val_min_widget, \n",
    "                                    val_max_widget]),image_widget ]))\n",
    "\n",
    "\n",
    "#sample_img = cv2.imread('../images/finger_3.png')\n",
    "#show_image(sample_img)\n",
    "\n",
    "img = camera.get_image_bgr()\n",
    "on_change(None)"
   ]
  },
  {
   "cell_type": "markdown",
   "id": "collectible-aurora",
   "metadata": {},
   "source": [
    "## predict from camera"
   ]
  },
  {
   "cell_type": "code",
   "execution_count": 119,
   "id": "automatic-springer",
   "metadata": {},
   "outputs": [
    {
     "name": "stdout",
     "output_type": "stream",
     "text": [
      "4 - time preprocess / prediction:0.00s / 0.30s\n"
     ]
    },
    {
     "data": {
      "image/png": "[encoded data removed]",
      "text/plain": [
       "<Figure size 432x288 with 1 Axes>"
      ]
     },
     "metadata": {
      "needs_background": "light"
     },
     "output_type": "display_data"
    }
   ],
   "source": [
    "#img = camera.get_image_bgr()\n",
    "img = cv2.imread('../images/finger_3.png')\n",
    "#img = calibrate_photo(img)\n",
    "img = cv2.cvtColor(img, cv2.COLOR_BGR2RGB)\n",
    "plt.imshow(img)\n",
    "img_array, duration_preprocess = preprocess_image(Image.fromarray(img, 'RGB'))\n",
    "df, duration_predict = predict_from_image_array(img_array)\n",
    "df\n",
    "pred_label = df.nlargest(1, 'proba')[['label','proba']].values[0][0]\n",
    "pred_proba = df.nlargest(1, 'proba')[['label','proba']].values[0][1]\n",
    "print(f'{pred_label} - time preprocess / prediction:{duration_preprocess:0.2f}s / {duration_predict:0.2f}s')\n",
    "#plt.imshow(img_array.reshape(128, 128, 3))"
   ]
  },
  {
   "cell_type": "markdown",
   "id": "widespread-japan",
   "metadata": {},
   "source": [
    "## live camera"
   ]
  },
  {
   "cell_type": "code",
   "execution_count": 38,
   "id": "wanted-myanmar",
   "metadata": {},
   "outputs": [
    {
     "data": {
      "application/vnd.jupyter.widget-view+json": {
       "model_id": "c22a6edf93a64be4b0424719a731a80f",
       "version_major": 2,
       "version_minor": 0
      },
      "text/plain": [
       "HBox(children=(Image(value=b'', format='jpeg', height='300', width='300'), VBox(children=(Text(value='', descr…"
      ]
     },
     "metadata": {},
     "output_type": "display_data"
    }
   ],
   "source": [
    "duration = 30 # running time in seconds\n",
    "\n",
    "from IPython.display import display\n",
    "import ipywidgets.widgets as widgets\n",
    "image_widget = widgets.Image(format='jpeg', width=300, height=300)\n",
    "label_widget = widgets.Text(description='detected')\n",
    "confidence_widget = widgets.Text(description='confidence')\n",
    "time_widget = widgets.Text(description='pred. time')\n",
    "progress_widget = widgets.FloatProgress(value=0, min=0.0, max=float(duration), description='running time')\n",
    "\n",
    "display(widgets.HBox([image_widget, \n",
    "                      widgets.VBox([label_widget, confidence_widget, time_widget, progress_widget])]))\n",
    "\n",
    "start_time = time.time()\n",
    "while time.time() - start_time < duration:\n",
    "    img_rgb = camera0.get_image_rgb()\n",
    "    img = Image.fromarray(img_rgb, 'RGB')\n",
    "    img_array, duration_preprocess = preprocess_image(img)\n",
    "    df, duration_predict = predict_from_image_array(img_array)\n",
    "    pred_label = df.nlargest(1, 'proba')[['label','proba']].values[0][0].split(',')[0]\n",
    "    pred_proba = df.nlargest(1, 'proba')[['label','proba']].values[0][1]\n",
    "    label_widget.value = pred_label\n",
    "    confidence_widget.value = f'{pred_proba *100:0.0f} %'\n",
    "    time_widget.value = f'{duration_predict:0.2f} sec'\n",
    "    image_widget.value = bytes(cv2.imencode('.jpg', img_rgb)[1])\n",
    "    progress_widget.value = (time.time() - start_time)"
   ]
  },
  {
   "cell_type": "code",
   "execution_count": 70,
   "id": "geological-comparative",
   "metadata": {},
   "outputs": [
    {
     "data": {
      "text/plain": [
       "<matplotlib.image.AxesImage at 0x7e73dbc1d0>"
      ]
     },
     "execution_count": 70,
     "metadata": {},
     "output_type": "execute_result"
    },
    {
     "data": {
      "image/png": "[encoded data removed]",
      "text/plain": [
       "<Figure size 432x288 with 1 Axes>"
      ]
     },
     "metadata": {
      "needs_background": "light"
     },
     "output_type": "display_data"
    }
   ],
   "source": [
    "img = camera0.get_image_rgb()\n",
    "#img = Image.fromarray(img_rgb, 'RGB')\n",
    "img = cv2.resize(img, (128, 128))\n",
    "img = cv2.GaussianBlur(img,(5,5),0)\n",
    "_,img = cv2.threshold(img,80,255,cv2.THRESH_BINARY)\n",
    "im_floodfill = img.copy()\n",
    "#h, w = img.shape[:2]\n",
    "#mask = np.zeros((h+2, w+2), np.uint8)\n",
    "#cv2.floodFill(im_floodfill, mask, (0,0), 255)\n",
    "#im_floodfill_inv = cv2.bitwise_not(im_floodfill)\n",
    "#img = img | im_floodfill_inv\n",
    "\n",
    "\n",
    "#img = img/255\n",
    "\n",
    "# plt.imshow(img_array.reshape(128, 128, 3))\n",
    "plt.imshow(img)\n"
   ]
  },
  {
   "cell_type": "code",
   "execution_count": null,
   "id": "strategic-gregory",
   "metadata": {},
   "outputs": [],
   "source": []
  }
 ],
 "metadata": {
  "kernelspec": {
   "display_name": "Python 3",
   "language": "python",
   "name": "python3"
  },
  "language_info": {
   "codemirror_mode": {
    "name": "ipython",
    "version": 3
   },
   "file_extension": ".py",
   "mimetype": "text/x-python",
   "name": "python",
   "nbconvert_exporter": "python",
   "pygments_lexer": "ipython3",
   "version": "3.6.9"
  }
 },
 "nbformat": 4,
 "nbformat_minor": 5
}

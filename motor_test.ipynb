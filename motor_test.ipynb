{
 "cells": [
  {
   "cell_type": "code",
   "execution_count": 61,
   "metadata": {},
   "outputs": [],
   "source": [
    "from utils.motor import Motor"
   ]
  },
  {
   "cell_type": "code",
   "execution_count": 64,
   "metadata": {},
   "outputs": [],
   "source": [
    "motor1 = Motor(channel=1, alpha=0.5, offset=0.2)\n",
    "motor2 = Motor(channel=2, alpha=0.5, offset=0.2)\n",
    "\n",
    "motor1.drive(0.01)\n",
    "motor2.drive(0.01)\n",
    "time.sleep(1)\n",
    "motor1.stop()\n",
    "motor2.stop()\n",
    "time.sleep(1)\n",
    "motor1.drive(-0.01)\n",
    "motor2.drive(-0.01)\n",
    "time.sleep(1)\n",
    "motor1.stop()\n",
    "motor2.stop()\n",
    "time.sleep(1)\n",
    "motor1.drive(-0.01)\n",
    "motor2.drive(0.01)\n",
    "time.sleep(1)\n",
    "motor1.stop()\n",
    "motor2.stop()"
   ]
  },
  {
   "cell_type": "code",
   "execution_count": null,
   "metadata": {},
   "outputs": [],
   "source": []
  }
 ],
 "metadata": {
  "kernelspec": {
   "display_name": "Python 3",
   "language": "python",
   "name": "python3"
  },
  "language_info": {
   "codemirror_mode": {
    "name": "ipython",
    "version": 3
   },
   "file_extension": ".py",
   "mimetype": "text/x-python",
   "name": "python",
   "nbconvert_exporter": "python",
   "pygments_lexer": "ipython3",
   "version": "3.6.9"
  }
 },
 "nbformat": 4,
 "nbformat_minor": 4
}

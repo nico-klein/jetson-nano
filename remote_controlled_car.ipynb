{
 "cells": [
  {
   "cell_type": "code",
   "execution_count": 7,
   "metadata": {},
   "outputs": [],
   "source": [
    "# TODO steering"
   ]
  },
  {
   "cell_type": "code",
   "execution_count": 1,
   "metadata": {},
   "outputs": [
    {
     "name": "stdout",
     "output_type": "stream",
     "text": [
      "/dev/input/event0  /dev/input/event2  /dev/input/event4\n",
      "/dev/input/event1  /dev/input/event3\n"
     ]
    }
   ],
   "source": [
    "from utils.motor import Motor\n",
    "import time, os, subprocess\n",
    "from utils.gamepad import Gamepad, XBoxController, PS5DualSense\n",
    "# check connected input devices. One of eventX should be the gamepad\n",
    "!ls /dev/input/ev*"
   ]
  },
  {
   "cell_type": "code",
   "execution_count": 3,
   "metadata": {},
   "outputs": [],
   "source": [
    "# init motor and gamepad\n",
    "motor1 = Motor(channel=1, alpha=0.1, offset=0.1, debug=False)\n",
    "motor2 = Motor(channel=2, alpha=0.1, offset=0.1, debug=False)\n",
    "gamepad = XBoxController('/dev/input/event4')"
   ]
  },
  {
   "cell_type": "code",
   "execution_count": 4,
   "metadata": {},
   "outputs": [
    {
     "ename": "SystemError",
     "evalue": "<built-in function ioctl_EVIOCG_bits> returned NULL without setting an error",
     "output_type": "error",
     "traceback": [
      "\u001b[0;31m---------------------------------------------------------------------------\u001b[0m",
      "\u001b[0;31mSystemError\u001b[0m                               Traceback (most recent call last)",
      "\u001b[0;32m<ipython-input-4-525e49b31bcb>\u001b[0m in \u001b[0;36m<module>\u001b[0;34m\u001b[0m\n\u001b[1;32m      1\u001b[0m \u001b[0;32mwhile\u001b[0m \u001b[0;32mTrue\u001b[0m\u001b[0;34m:\u001b[0m\u001b[0;34m\u001b[0m\u001b[0;34m\u001b[0m\u001b[0m\n\u001b[0;32m----> 2\u001b[0;31m     \u001b[0mpressed_keys\u001b[0m \u001b[0;34m=\u001b[0m \u001b[0mgamepad\u001b[0m\u001b[0;34m.\u001b[0m\u001b[0mget_active_keys\u001b[0m\u001b[0;34m(\u001b[0m\u001b[0;34m)\u001b[0m\u001b[0;34m\u001b[0m\u001b[0;34m\u001b[0m\u001b[0m\n\u001b[0m\u001b[1;32m      3\u001b[0m     \u001b[0;31m# stop when B button pressed\u001b[0m\u001b[0;34m\u001b[0m\u001b[0;34m\u001b[0m\u001b[0;34m\u001b[0m\u001b[0m\n\u001b[1;32m      4\u001b[0m     \u001b[0;32mif\u001b[0m \u001b[0;34m(\u001b[0m\u001b[0mXBoxController\u001b[0m\u001b[0;34m.\u001b[0m\u001b[0mBUTTON_B\u001b[0m \u001b[0;32min\u001b[0m \u001b[0mpressed_keys\u001b[0m\u001b[0;34m)\u001b[0m\u001b[0;34m:\u001b[0m\u001b[0;34m\u001b[0m\u001b[0;34m\u001b[0m\u001b[0m\n\u001b[1;32m      5\u001b[0m         \u001b[0;32mbreak\u001b[0m\u001b[0;34m\u001b[0m\u001b[0;34m\u001b[0m\u001b[0m\n",
      "\u001b[0;32m~/nico/jetson-nano/utils/gamepad.py\u001b[0m in \u001b[0;36mget_active_keys\u001b[0;34m(self)\u001b[0m\n\u001b[1;32m     10\u001b[0m \u001b[0;34m\u001b[0m\u001b[0m\n\u001b[1;32m     11\u001b[0m     \u001b[0;32mdef\u001b[0m \u001b[0mget_active_keys\u001b[0m\u001b[0;34m(\u001b[0m\u001b[0mself\u001b[0m\u001b[0;34m)\u001b[0m\u001b[0;34m:\u001b[0m\u001b[0;34m\u001b[0m\u001b[0;34m\u001b[0m\u001b[0m\n\u001b[0;32m---> 12\u001b[0;31m         \u001b[0;32mreturn\u001b[0m \u001b[0mself\u001b[0m\u001b[0;34m.\u001b[0m\u001b[0m_gamepad\u001b[0m\u001b[0;34m.\u001b[0m\u001b[0mactive_keys\u001b[0m\u001b[0;34m(\u001b[0m\u001b[0;34m)\u001b[0m\u001b[0;34m\u001b[0m\u001b[0;34m\u001b[0m\u001b[0m\n\u001b[0m\u001b[1;32m     13\u001b[0m \u001b[0;34m\u001b[0m\u001b[0m\n\u001b[1;32m     14\u001b[0m     \u001b[0;32mdef\u001b[0m \u001b[0mget_analog_value\u001b[0m\u001b[0;34m(\u001b[0m\u001b[0mself\u001b[0m\u001b[0;34m,\u001b[0m \u001b[0mid\u001b[0m\u001b[0;34m)\u001b[0m\u001b[0;34m:\u001b[0m\u001b[0;34m\u001b[0m\u001b[0;34m\u001b[0m\u001b[0m\n",
      "\u001b[0;32m/usr/local/lib/python3.6/dist-packages/evdev/device.py\u001b[0m in \u001b[0;36mactive_keys\u001b[0;34m(self, verbose)\u001b[0m\n\u001b[1;32m    389\u001b[0m \u001b[0;34m\u001b[0m\u001b[0m\n\u001b[1;32m    390\u001b[0m         '''\n\u001b[0;32m--> 391\u001b[0;31m         \u001b[0mactive_keys\u001b[0m \u001b[0;34m=\u001b[0m \u001b[0m_input\u001b[0m\u001b[0;34m.\u001b[0m\u001b[0mioctl_EVIOCG_bits\u001b[0m\u001b[0;34m(\u001b[0m\u001b[0mself\u001b[0m\u001b[0;34m.\u001b[0m\u001b[0mfd\u001b[0m\u001b[0;34m,\u001b[0m \u001b[0mecodes\u001b[0m\u001b[0;34m.\u001b[0m\u001b[0mEV_KEY\u001b[0m\u001b[0;34m)\u001b[0m\u001b[0;34m\u001b[0m\u001b[0;34m\u001b[0m\u001b[0m\n\u001b[0m\u001b[1;32m    392\u001b[0m         \u001b[0;32mif\u001b[0m \u001b[0mverbose\u001b[0m\u001b[0;34m:\u001b[0m\u001b[0;34m\u001b[0m\u001b[0;34m\u001b[0m\u001b[0m\n\u001b[1;32m    393\u001b[0m             \u001b[0;32mreturn\u001b[0m \u001b[0mutil\u001b[0m\u001b[0;34m.\u001b[0m\u001b[0mresolve_ecodes\u001b[0m\u001b[0;34m(\u001b[0m\u001b[0mecodes\u001b[0m\u001b[0;34m.\u001b[0m\u001b[0mKEY\u001b[0m\u001b[0;34m,\u001b[0m \u001b[0mactive_keys\u001b[0m\u001b[0;34m)\u001b[0m\u001b[0;34m\u001b[0m\u001b[0;34m\u001b[0m\u001b[0m\n",
      "\u001b[0;31mSystemError\u001b[0m: <built-in function ioctl_EVIOCG_bits> returned NULL without setting an error"
     ]
    }
   ],
   "source": [
    "while True:\n",
    "    pressed_keys = gamepad.get_active_keys()\n",
    "    # stop when B button pressed\n",
    "    if (XBoxController.BUTTON_B in pressed_keys):\n",
    "        break\n",
    "    r2 = gamepad.get_analog_value(XBoxController.ANALOG_RT)\n",
    "    l2 = gamepad.get_analog_value(XBoxController.ANALOG_LT)\n",
    "    direction = gamepad.get_analog_value(XBoxController.ANALOG_L_SIDE)\n",
    "    \n",
    "    if r2 > 0:\n",
    "        motor1.drive(r2 / 255.0)\n",
    "        motor2.drive(r2 / 255.0)\n",
    "    elif l2 > 0:\n",
    "        motor1.drive(-1 * l2 / 255.0)\n",
    "        motor2.drive(-1 * l2 / 255.0)\n",
    "    else:\n",
    "        motor1.drive(0.0)\n",
    "        motor2.drive(0.0)\n",
    "    \n",
    "motor1.stop()\n",
    "motor2.stop()"
   ]
  },
  {
   "cell_type": "code",
   "execution_count": null,
   "metadata": {},
   "outputs": [],
   "source": []
  }
 ],
 "metadata": {
  "kernelspec": {
   "display_name": "Python 3",
   "language": "python",
   "name": "python3"
  },
  "language_info": {
   "codemirror_mode": {
    "name": "ipython",
    "version": 3
   },
   "file_extension": ".py",
   "mimetype": "text/x-python",
   "name": "python",
   "nbconvert_exporter": "python",
   "pygments_lexer": "ipython3",
   "version": "3.6.9"
  }
 },
 "nbformat": 4,
 "nbformat_minor": 4
}

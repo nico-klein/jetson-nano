{
 "cells": [
  {
   "cell_type": "code",
   "execution_count": 7,
   "metadata": {},
   "outputs": [],
   "source": [
    "# TODO steering"
   ]
  },
  {
   "cell_type": "code",
   "execution_count": 8,
   "metadata": {},
   "outputs": [
    {
     "name": "stdout",
     "output_type": "stream",
     "text": [
      "/dev/input/event0  /dev/input/event1  /dev/input/event2\n"
     ]
    }
   ],
   "source": [
    "from utils.motor import Motor\n",
    "import time, os, subprocess\n",
    "from utils.gamepad import Gamepad\n",
    "# the lib is created for a PS5 controller. Other types could wor alsso but have other button (ids)\n",
    "# check connected input devices. One of eventX should be the gamepad\n",
    "!ls /dev/input/ev*"
   ]
  },
  {
   "cell_type": "code",
   "execution_count": 9,
   "metadata": {},
   "outputs": [],
   "source": [
    "# init motor and gamepad\n",
    "motor1 = Motor(channel=1, alpha=0.1, offset=0.1, debug=False)\n",
    "motor2 = Motor(channel=2, alpha=0.1, offset=0.1, debug=False)\n",
    "gamepad = Gamepad('/dev/input/event2')"
   ]
  },
  {
   "cell_type": "code",
   "execution_count": 10,
   "metadata": {},
   "outputs": [],
   "source": [
    "while True:\n",
    "    pressed_keys = gamepad.get_active_keys()\n",
    "    # stop when circle button pressed\n",
    "    if (gamepad.BUTTON_CIRCLE in pressed_keys):\n",
    "        break\n",
    "    r2 = gamepad.get_analog_value(gamepad.ANALOG_R2)\n",
    "    l2 = gamepad.get_analog_value(gamepad.ANALOG_L2)\n",
    "    direction = gamepad.get_analog_value(gamepad.ANALOG_L_SIDE)\n",
    "    \n",
    "    if r2 > 0:\n",
    "        motor1.drive(r2 / 255.0)\n",
    "        motor2.drive(r2 / 255.0)\n",
    "    elif l2 > 0:\n",
    "        motor1.drive(-1 * l2 / 255.0)\n",
    "        motor2.drive(-1 * l2 / 255.0)\n",
    "    else:\n",
    "        motor1.drive(0.0)\n",
    "        motor2.drive(0.0)\n",
    "    \n",
    "motor1.stop()\n",
    "motor2.stop()"
   ]
  }
 ],
 "metadata": {
  "kernelspec": {
   "display_name": "Python 3",
   "language": "python",
   "name": "python3"
  },
  "language_info": {
   "codemirror_mode": {
    "name": "ipython",
    "version": 3
   },
   "file_extension": ".py",
   "mimetype": "text/x-python",
   "name": "python",
   "nbconvert_exporter": "python",
   "pygments_lexer": "ipython3",
   "version": "3.6.9"
  }
 },
 "nbformat": 4,
 "nbformat_minor": 4
}

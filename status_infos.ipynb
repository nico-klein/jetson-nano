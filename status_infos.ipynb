{
 "cells": [
  {
   "cell_type": "markdown",
   "metadata": {},
   "source": [
    "# check jetson nano"
   ]
  },
  {
   "cell_type": "code",
   "execution_count": 1,
   "metadata": {},
   "outputs": [],
   "source": [
    "import subprocess\n",
    "import pkg_resources\n",
    "import platform\n",
    "import os, sys\n",
    "import torch, tensorflow"
   ]
  },
  {
   "cell_type": "code",
   "execution_count": 2,
   "metadata": {},
   "outputs": [
    {
     "name": "stdout",
     "output_type": "stream",
     "text": [
      "NVIDIA Jetson Nano Developer Kit\n"
     ]
    }
   ],
   "source": [
    "# print model\n",
    "with open('/proc/device-tree/model', 'r') as f:\n",
    "    print(str(f.read()[:-1]))"
   ]
  },
  {
   "cell_type": "code",
   "execution_count": 3,
   "metadata": {},
   "outputs": [
    {
     "name": "stdout",
     "output_type": "stream",
     "text": [
      "eth0\tup\t192.168.178.90\n",
      "wlan0\tup\t192.168.178.71\n"
     ]
    }
   ],
   "source": [
    "# network connection(s)\n",
    "for interface in ['eth0', 'wlan0']:\n",
    "    operstate = subprocess.check_output('cat /sys/class/net/%s/operstate' % interface, shell=True).decode('ascii')[:-1]\n",
    "    if operstate == 'up' :  \n",
    "        cmd = \"ifconfig %s | grep -Eo 'inet (addr:)?([0-9]*\\.){3}[0-9]*' | grep -Eo '([0-9]*\\.){3}[0-9]*' | grep -v '127.0.0.1'\" % interface\n",
    "        ip = subprocess.check_output(cmd, shell=True).decode('ascii')[:-1]\n",
    "    else:\n",
    "        ip = ''\n",
    "    print(f'{interface}\\t{operstate}\\t{ip}')"
   ]
  },
  {
   "cell_type": "code",
   "execution_count": 4,
   "metadata": {},
   "outputs": [
    {
     "name": "stdout",
     "output_type": "stream",
     "text": [
      "python:      3.6.9 (default, Oct  8 2020, 12:12:24)  [GCC 8.4.0]\n",
      "pytorch:     1.3.0\n",
      "keras :      2.4.0\n",
      "tensorflow:  2.3.1\n",
      "CUDNN:       7603\n"
     ]
    }
   ],
   "source": [
    "print('python:     ', sys.version.replace('\\n', ' '))\n",
    "print('pytorch:    ', torch.__version__)\n",
    "print('keras :     ', tensorflow.keras.__version__)\n",
    "print('tensorflow: ', tensorflow.__version__)\n",
    "# print('CUDA', \"tbd \")\n",
    "print('CUDNN:      ', torch.backends.cudnn.version())\n",
    "#print('number of CUDA sevices:', torch.cuda.device_count())\n",
    "#print('num GPUs available:' , len(tensorflow.config.experimental.list_physical_devices('GPU')))\n",
    "#print('devices')\n",
    "# !nvidia-smi\n",
    "# call([\"nvidia-smi\", \"--format=csv\", \"--query-gpu=index,name,driver_version,memory.total,memory.used,memory.free\"])\n",
    "#print('active CUDA device gpu', torch.cuda.current_device())\n",
    "#print ('available devices ', torch.cuda.device_count())\n",
    "#print ('current cuda device ', torch.cuda.current_device())"
   ]
  },
  {
   "cell_type": "code",
   "execution_count": 7,
   "metadata": {},
   "outputs": [
    {
     "name": "stdout",
     "output_type": "stream",
     "text": [
      "/dev/input/event0  /dev/input/event1  /dev/input/event2  /dev/input/event3\n",
      "###\n",
      "I: Bus=0000 Vendor=0000 Product=0000 Version=0000\n",
      "N: Name=\"tegra-hda HDMI/DP,pcm=3\"\n",
      "P: Phys=ALSA\n",
      "S: Sysfs=/devices/70030000.hda/sound/card0/input0\n",
      "U: Uniq=\n",
      "E: Enabled=0\n",
      "H: Handlers=event0 \n",
      "B: PROP=0\n",
      "B: EV=21\n",
      "B: SW=140\n",
      "\n",
      "I: Bus=0019 Vendor=0001 Product=0001 Version=0100\n",
      "N: Name=\"gpio-keys\"\n",
      "P: Phys=gpio-keys/input0\n",
      "S: Sysfs=/devices/gpio-keys/input/input1\n",
      "U: Uniq=\n",
      "E: Enabled=0\n",
      "H: Handlers=kbd event1 \n",
      "B: PROP=0\n",
      "B: EV=3\n",
      "B: KEY=10000000000000 0\n",
      "\n",
      "I: Bus=0003 Vendor=413c Product=2106 Version=0110\n",
      "N: Name=\"Dell Dell QuietKey Keyboard\"\n",
      "P: Phys=usb-70090000.xusb-2.1/input0\n",
      "S: Sysfs=/devices/70090000.xusb/usb1/1-2/1-2.1/1-2.1:1.0/0003:413C:2106.0001/input/input2\n",
      "U: Uniq=\n",
      "E: Enabled=0\n",
      "H: Handlers=sysrq kbd leds event2 \n",
      "B: PROP=0\n",
      "B: EV=120013\n",
      "B: KEY=1000000000007 ff9f207ac14057ff febeffdfffefffff fffffffffffffffe\n",
      "B: MSC=10\n",
      "B: LED=7\n",
      "\n",
      "I: Bus=0003 Vendor=046d Product=c05a Version=0111\n",
      "N: Name=\"Logitech USB Optical Mouse\"\n",
      "P: Phys=usb-70090000.xusb-2.3/input0\n",
      "S: Sysfs=/devices/70090000.xusb/usb1/1-2/1-2.3/1-2.3:1.0/0003:046D:C05A.0002/input/input3\n",
      "U: Uniq=\n",
      "E: Enabled=0\n",
      "H: Handlers=mouse0 event3 \n",
      "B: PROP=0\n",
      "B: EV=17\n",
      "B: KEY=ff0000 0 0 0 0\n",
      "B: REL=143\n",
      "B: MSC=10\n",
      "\n"
     ]
    }
   ],
   "source": [
    "# input devices (e.g. to detect devicename of a gamepad)\n",
    "!ls /dev/input/event*\n",
    "print('###')\n",
    "!cat /proc/bus/input/devices"
   ]
  },
  {
   "cell_type": "code",
   "execution_count": 6,
   "metadata": {},
   "outputs": [
    {
     "name": "stdout",
     "output_type": "stream",
     "text": [
      "autofs\t\t\tmmcblk0p9\t    ram7\t       tty51\n",
      "block\t\t\tmqueue\t\t    ram8\t       tty52\n",
      "btrfs-control\t\tmtd0\t\t    ram9\t       tty53\n",
      "bus\t\t\tmtd0ro\t\t    random\t       tty54\n",
      "char\t\t\tmtdblock0\t    rfkill\t       tty55\n",
      "console\t\t\tnet\t\t    rtc\t\t       tty56\n",
      "constraint_cpu_freq\tnetwork_latency     rtc0\t       tty57\n",
      "constraint_gpu_freq\tnetwork_throughput  rtc1\t       tty58\n",
      "constraint_online_cpus\tnull\t\t    shm\t\t       tty59\n",
      "cpu_dma_latency\t\tnvhdcp0\t\t    snd\t\t       tty6\n",
      "cpu_freq_max\t\tnvhdcp1\t\t    spidev0.0\t       tty60\n",
      "cpu_freq_min\t\tnvhost-as-gpu\t    spidev1.0\t       tty61\n",
      "cuse\t\t\tnvhost-ctrl\t    stderr\t       tty62\n",
      "disk\t\t\tnvhost-ctrl-gpu     stdin\t       tty63\n",
      "emc_freq_min\t\tnvhost-ctrl-isp     stdout\t       tty7\n",
      "fb0\t\t\tnvhost-ctrl-isp.1   tegra_camera_ctrl  tty8\n",
      "fb1\t\t\tnvhost-ctrl-nvdec   tegra_cec\t       tty9\n",
      "fd\t\t\tnvhost-ctrl-vi\t    tegra-crypto       ttyGS0\n",
      "full\t\t\tnvhost-ctxsw-gpu    tegra_dc_0\t       ttyp0\n",
      "fuse\t\t\tnvhost-dbg-gpu\t    tegra_dc_1\t       ttyp1\n",
      "gpiochip0\t\tnvhost-gpu\t    tegra_dc_ctrl      ttyp2\n",
      "gpiochip1\t\tnvhost-isp\t    tegra_mipi_cal     ttyp3\n",
      "gpu_freq_max\t\tnvhost-isp.1\t    tty\t\t       ttyp4\n",
      "gpu_freq_min\t\tnvhost-msenc\t    tty0\t       ttyp5\n",
      "hugepages\t\tnvhost-nvdec\t    tty1\t       ttyp6\n",
      "i2c-0\t\t\tnvhost-nvjpg\t    tty10\t       ttyp7\n",
      "i2c-1\t\t\tnvhost-prof-gpu     tty11\t       ttyp8\n",
      "i2c-2\t\t\tnvhost-sched-gpu    tty12\t       ttyp9\n",
      "i2c-3\t\t\tnvhost-tsec\t    tty13\t       ttypa\n",
      "i2c-4\t\t\tnvhost-tsecb\t    tty14\t       ttypb\n",
      "i2c-5\t\t\tnvhost-tsg-gpu\t    tty15\t       ttypc\n",
      "i2c-6\t\t\tnvhost-vi\t    tty16\t       ttypd\n",
      "iio:device0\t\tnvhost-vic\t    tty17\t       ttype\n",
      "initctl\t\t\tnvmap\t\t    tty18\t       ttypf\n",
      "input\t\t\tport\t\t    tty19\t       ttyS0\n",
      "keychord\t\tppp\t\t    tty2\t       ttyS1\n",
      "kmem\t\t\tpsaux\t\t    tty20\t       ttyS2\n",
      "kmsg\t\t\tptmx\t\t    tty21\t       ttyS3\n",
      "log\t\t\tpts\t\t    tty22\t       ttyTHS1\n",
      "loop0\t\t\tptyp0\t\t    tty23\t       ttyTHS2\n",
      "loop1\t\t\tptyp1\t\t    tty24\t       uhid\n",
      "loop2\t\t\tptyp2\t\t    tty25\t       uinput\n",
      "loop3\t\t\tptyp3\t\t    tty26\t       urandom\n",
      "loop4\t\t\tptyp4\t\t    tty27\t       v4l\n",
      "loop5\t\t\tptyp5\t\t    tty28\t       v4l-subdev0\n",
      "loop6\t\t\tptyp6\t\t    tty29\t       v4l-subdev1\n",
      "loop7\t\t\tptyp7\t\t    tty3\t       vcs\n",
      "loop-control\t\tptyp8\t\t    tty30\t       vcs1\n",
      "mapper\t\t\tptyp9\t\t    tty31\t       vcs2\n",
      "max_cpu_power\t\tptypa\t\t    tty32\t       vcs3\n",
      "max_gpu_power\t\tptypb\t\t    tty33\t       vcs4\n",
      "max_online_cpus\t\tptypc\t\t    tty34\t       vcs5\n",
      "media0\t\t\tptypd\t\t    tty35\t       vcs6\n",
      "mem\t\t\tptype\t\t    tty36\t       vcsa\n",
      "memory_bandwidth\tptypf\t\t    tty37\t       vcsa1\n",
      "min_online_cpus\t\tquadd\t\t    tty38\t       vcsa2\n",
      "mmcblk0\t\t\tquadd_auth\t    tty39\t       vcsa3\n",
      "mmcblk0p1\t\tram0\t\t    tty4\t       vcsa4\n",
      "mmcblk0p10\t\tram1\t\t    tty40\t       vcsa5\n",
      "mmcblk0p11\t\tram10\t\t    tty41\t       vcsa6\n",
      "mmcblk0p12\t\tram11\t\t    tty42\t       vfio\n",
      "mmcblk0p13\t\tram12\t\t    tty43\t       vhci\n",
      "mmcblk0p14\t\tram13\t\t    tty44\t       video0\n",
      "mmcblk0p2\t\tram14\t\t    tty45\t       watchdog\n",
      "mmcblk0p3\t\tram15\t\t    tty46\t       watchdog0\n",
      "mmcblk0p4\t\tram2\t\t    tty47\t       zero\n",
      "mmcblk0p5\t\tram3\t\t    tty48\t       zram0\n",
      "mmcblk0p6\t\tram4\t\t    tty49\t       zram1\n",
      "mmcblk0p7\t\tram5\t\t    tty5\n",
      "mmcblk0p8\t\tram6\t\t    tty50\n"
     ]
    }
   ],
   "source": [
    "# cameras\n",
    "!ls /dev/ "
   ]
  },
  {
   "cell_type": "markdown",
   "metadata": {},
   "source": [
    "# jetbot only"
   ]
  },
  {
   "cell_type": "code",
   "execution_count": 7,
   "metadata": {},
   "outputs": [
    {
     "name": "stdout",
     "output_type": "stream",
     "text": [
      "found 0x3c\n",
      "found 0x48\n",
      "found 0x60\n",
      "found 0x70\n"
     ]
    }
   ],
   "source": [
    "# check i2c bus\n",
    "#  found 0x3c : display Adafruit_SSD1306 \n",
    "#  found 0x48 : ads1115 -> analog digital converter to get voltages e.g. the 12V on jetbot platine\n",
    "#  found 0x60 : motor driver : Adafruit_MotorHAT\n",
    "#  found 0x70 : ?\n",
    "for i in range(128):\n",
    "    address = str(hex(i))\n",
    "    found_address = os.popen(\"i2cdetect -y -r 1 \" + address + \" \" + address + \" | egrep '\" + address[2:] + \"' | awk '{print $2}'\").read()\n",
    "    if address[2:] in found_address:\n",
    "        print('found', address)"
   ]
  },
  {
   "cell_type": "code",
   "execution_count": 8,
   "metadata": {},
   "outputs": [
    {
     "name": "stdout",
     "output_type": "stream",
     "text": [
      "None\n"
     ]
    }
   ],
   "source": [
    "# ina219 should return values charging. in my case on this i2c address is nothing found\n",
    "import jetbot.ina219 as ina219 # import INA219\n",
    "adress = os.popen(\"i2cdetect -y -r 1 0x41 0x41 | egrep '41' | awk '{print $2}'\").read()\n",
    "if(adress=='41\\n'):\n",
    "    ina = ina219.INA219(addr=0x41)\n",
    "else:\n",
    "    ina = None\n",
    "    \n",
    "print(ina)"
   ]
  },
  {
   "cell_type": "code",
   "execution_count": 9,
   "metadata": {},
   "outputs": [
    {
     "name": "stdout",
     "output_type": "stream",
     "text": [
      "channel 0 9.50 volt\n",
      "channel 1 9.50 volt\n",
      "channel 2 0.00 volt\n",
      "channel 3 0.00 volt\n",
      "channel 4 12.08 volt\n",
      "channel 5 2.37 volt\n",
      "channel 6 2.37 volt\n",
      "channel 7 2.37 volt\n"
     ]
    }
   ],
   "source": [
    "# check power supply on jetbot\n",
    "# ch 0,1   :  ~9,7 V\n",
    "# ch 2     :  ~12 V (only if power supply is connected)\n",
    "# ch 3     :  0 V\n",
    "# ch 4     :  ~12 V (also if battery only without power supply)\n",
    "# ch 5,6,7 :  ~2,4V (i2c?)\n",
    "\n",
    "import jetbot.ads1115 as ads1115 # import ADS1115\n",
    "adress = os.popen(\"i2cdetect -y -r 1 0x48 0x48 | egrep '48' | awk '{print $2}'\").read()\n",
    "if(adress=='48\\n'):\n",
    "    ads = ads1115.ADS1115()\n",
    "    for channel in range(8):\n",
    "        print(f'channel {channel} {ads.readVoltage(channel)/1000:.2f} volt')\n",
    "else:\n",
    "    ads = None"
   ]
  },
  {
   "cell_type": "code",
   "execution_count": null,
   "metadata": {},
   "outputs": [],
   "source": []
  }
 ],
 "metadata": {
  "kernelspec": {
   "display_name": "Python 3",
   "language": "python",
   "name": "python3"
  },
  "language_info": {
   "codemirror_mode": {
    "name": "ipython",
    "version": 3
   },
   "file_extension": ".py",
   "mimetype": "text/x-python",
   "name": "python",
   "nbconvert_exporter": "python",
   "pygments_lexer": "ipython3",
   "version": "3.6.9"
  }
 },
 "nbformat": 4,
 "nbformat_minor": 4
}

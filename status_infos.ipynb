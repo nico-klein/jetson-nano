{
 "cells": [
  {
   "cell_type": "markdown",
   "metadata": {},
   "source": [
    "# check jetson nano"
   ]
  },
  {
   "cell_type": "code",
   "execution_count": 1,
   "metadata": {},
   "outputs": [],
   "source": [
    "import subprocess\n",
    "import pkg_resources\n",
    "import platform\n",
    "import os, sys\n",
    "import torch, tensorflow\n",
    "sys.path.append('../')\n",
    "from utils.cooling_fan import CoolingFan"
   ]
  },
  {
   "cell_type": "code",
   "execution_count": 12,
   "metadata": {},
   "outputs": [
    {
     "name": "stdout",
     "output_type": "stream",
     "text": [
      "cooling fan speed: 0 (max=255)  temperature: 31.0 degree celsius\n"
     ]
    }
   ],
   "source": [
    "cooling_fan = CoolingFan()\n",
    "print(f'cooling fan speed: {cooling_fan.get_speed()} (max=255)  temperature: {cooling_fan.get_temp()} degree celsius') "
   ]
  },
  {
   "cell_type": "code",
   "execution_count": 16,
   "metadata": {},
   "outputs": [
    {
     "name": "stdout",
     "output_type": "stream",
     "text": [
      "NVIDIA Jetson Nano Developer Kit\n"
     ]
    }
   ],
   "source": [
    "# print model\n",
    "with open('/proc/device-tree/model', 'r') as f:\n",
    "    print(str(f.read()[:-1]))"
   ]
  },
  {
   "cell_type": "code",
   "execution_count": 8,
   "metadata": {},
   "outputs": [
    {
     "name": "stdout",
     "output_type": "stream",
     "text": [
      "eth0\tup\t192.168.178.92\n",
      "wlan0\tdown\t\n"
     ]
    }
   ],
   "source": [
    "# network connection(s)\n",
    "for interface in ['eth0', 'wlan0']:\n",
    "    operstate = subprocess.check_output('cat /sys/class/net/%s/operstate' % interface, shell=True).decode('ascii')[:-1]\n",
    "    if operstate == 'up' :  \n",
    "        cmd = \"ifconfig %s | grep -Eo 'inet (addr:)?([0-9]*\\.){3}[0-9]*' | grep -Eo '([0-9]*\\.){3}[0-9]*' | grep -v '127.0.0.1'\" % interface\n",
    "        ip = subprocess.check_output(cmd, shell=True).decode('ascii')[:-1]\n",
    "    else:\n",
    "        ip = ''\n",
    "    print(f'{interface}\\t{operstate}\\t{ip}')"
   ]
  },
  {
   "cell_type": "code",
   "execution_count": 9,
   "metadata": {},
   "outputs": [
    {
     "name": "stdout",
     "output_type": "stream",
     "text": [
      "nvcc: NVIDIA (R) Cuda compiler driver\r\n",
      "Copyright (c) 2005-2019 NVIDIA Corporation\r\n",
      "Built on Wed_Oct_23_21:14:42_PDT_2019\r\n",
      "Cuda compilation tools, release 10.2, V10.2.89\r\n"
     ]
    }
   ],
   "source": [
    "!/usr/local/cuda/bin/nvcc -V"
   ]
  },
  {
   "cell_type": "code",
   "execution_count": 10,
   "metadata": {},
   "outputs": [
    {
     "name": "stdout",
     "output_type": "stream",
     "text": [
      "#ifndef CUDNN_VERSION_H_\r\n",
      "#define CUDNN_VERSION_H_\r\n",
      "#define CUDNN_MAJOR 8\r\n",
      "#define CUDNN_MINOR 0\r\n",
      "#define CUDNN_PATCHLEVEL 0\r\n",
      "#define CUDNN_VERSION (CUDNN_MAJOR * 1000 + CUDNN_MINOR * 100 + CUDNN_PATCHLEVEL)\r\n",
      "#endif /* CUDNN_VERSION_H */\r\n"
     ]
    }
   ],
   "source": [
    "!cat /usr/include/cudnn_version.h | grep CUDNN"
   ]
  },
  {
   "cell_type": "code",
   "execution_count": 11,
   "metadata": {},
   "outputs": [
    {
     "name": "stdout",
     "output_type": "stream",
     "text": [
      "python:      3.6.9 (default, Oct  8 2020, 12:12:24)  [GCC 8.4.0]\n",
      "pytorch:     1.7.0\n",
      "keras :      2.4.0\n",
      "tensorflow:  2.3.1\n",
      "CUDNN:       8000\n",
      "device       NVIDIA Tegra X1\n",
      "jetpack      4.5.1-b17\n",
      "CUDA Version 10.2.89\n",
      "\n"
     ]
    }
   ],
   "source": [
    "print('python:     ', sys.version.replace('\\n', ' '))\n",
    "print('pytorch:    ', torch.__version__)\n",
    "print('keras :     ', tensorflow.keras.__version__)\n",
    "print('tensorflow: ', tensorflow.__version__)\n",
    "print('CUDNN:      ', torch.backends.cudnn.version())\n",
    "print('device      ', torch.cuda.get_device_name(torch.cuda.current_device()))\n",
    "nvidia_jetpack = subprocess.check_output(['apt-cache', 'show', 'nvidia-jetpack']).decode('utf8')\n",
    "start = nvidia_jetpack.find('Version', 0)\n",
    "end = nvidia_jetpack.find('\\n', start)\n",
    "print('jetpack     ', nvidia_jetpack[start+9:end])\n",
    "print(subprocess.check_output(['cat', '/usr/local/cuda/version.txt']).decode('utf8'))"
   ]
  },
  {
   "cell_type": "code",
   "execution_count": 12,
   "metadata": {},
   "outputs": [
    {
     "name": "stdout",
     "output_type": "stream",
     "text": [
      "/dev/input/event0  /dev/input/event1  /dev/input/event2\n",
      "###\n",
      "I: Bus=0000 Vendor=0000 Product=0000 Version=0000\n",
      "N: Name=\"tegra-hda HDMI/DP,pcm=3\"\n",
      "P: Phys=ALSA\n",
      "S: Sysfs=/devices/70030000.hda/sound/card0/input0\n",
      "U: Uniq=\n",
      "E: Enabled=0\n",
      "H: Handlers=event0 \n",
      "B: PROP=0\n",
      "B: EV=21\n",
      "B: SW=140\n",
      "\n",
      "I: Bus=0019 Vendor=0001 Product=0001 Version=0100\n",
      "N: Name=\"gpio-keys\"\n",
      "P: Phys=gpio-keys/input0\n",
      "S: Sysfs=/devices/gpio-keys/input/input1\n",
      "U: Uniq=\n",
      "E: Enabled=0\n",
      "H: Handlers=kbd event1 \n",
      "B: PROP=0\n",
      "B: EV=3\n",
      "B: KEY=10000000000000 0\n",
      "\n",
      "I: Bus=0003 Vendor=046d Product=4024 Version=0111\n",
      "N: Name=\"Logitech K400\"\n",
      "P: Phys=usb-70090000.xusb-2.4:1\n",
      "S: Sysfs=/devices/70090000.xusb/usb1/1-2/1-2.4/1-2.4:1.2/0003:046D:C52B.0003/0003:046D:4024.0004/input/input2\n",
      "U: Uniq=\n",
      "E: Enabled=0\n",
      "H: Handlers=sysrq kbd leds mouse0 event2 \n",
      "B: PROP=0\n",
      "B: EV=12001f\n",
      "B: KEY=3007f 0 0 483ffff17aff32d bf54444600000000 ffff0001 130ff38b17c007 ffff7bfad9415fff febeffdfffefffff fffffffffffffffe\n",
      "B: REL=1c3\n",
      "B: ABS=100000000\n",
      "B: MSC=10\n",
      "B: LED=1f\n",
      "\n"
     ]
    }
   ],
   "source": [
    "# input devices (e.g. to detect devicename of a gamepad)\n",
    "!ls /dev/input/event*\n",
    "print('###')\n",
    "!cat /proc/bus/input/devices"
   ]
  },
  {
   "cell_type": "code",
   "execution_count": 14,
   "metadata": {},
   "outputs": [
    {
     "name": "stdout",
     "output_type": "stream",
     "text": [
      "/dev/video0  /dev/video1\r\n"
     ]
    }
   ],
   "source": [
    "# cameras\n",
    "!ls /dev/video*"
   ]
  },
  {
   "cell_type": "markdown",
   "metadata": {},
   "source": [
    "# jetbot only"
   ]
  },
  {
   "cell_type": "code",
   "execution_count": 6,
   "metadata": {},
   "outputs": [
    {
     "name": "stdout",
     "output_type": "stream",
     "text": [
      "found 0x3c\n"
     ]
    }
   ],
   "source": [
    "# check i2c bus\n",
    "#  found 0x3c : display Adafruit_SSD1306 \n",
    "#  found 0x48 : ads1115 -> analog digital converter to get voltages e.g. the 12V on jetbot platine\n",
    "#  found 0x60 : motor driver : Adafruit_MotorHAT\n",
    "#  found 0x70 : ?\n",
    "for i in range(128):\n",
    "    address = str(hex(i))\n",
    "    found_address = os.popen(\"i2cdetect -y -r 1 \" + address + \" \" + address + \" | egrep '\" + address[2:] + \"' | awk '{print $2}'\").read()\n",
    "    if address[2:] in found_address:\n",
    "        print('found', address)"
   ]
  },
  {
   "cell_type": "code",
   "execution_count": 8,
   "metadata": {},
   "outputs": [
    {
     "name": "stdout",
     "output_type": "stream",
     "text": [
      "None\n"
     ]
    }
   ],
   "source": [
    "# ina219 should return values charging. in my case on this i2c address is nothing found\n",
    "import jetbot.ina219 as ina219 # import INA219\n",
    "adress = os.popen(\"i2cdetect -y -r 1 0x41 0x41 | egrep '41' | awk '{print $2}'\").read()\n",
    "if(adress=='41\\n'):\n",
    "    ina = ina219.INA219(addr=0x41)\n",
    "else:\n",
    "    ina = None\n",
    "    \n",
    "print(ina)"
   ]
  },
  {
   "cell_type": "code",
   "execution_count": 36,
   "metadata": {},
   "outputs": [],
   "source": [
    "# check power supply on jetbot\n",
    "# ch 0,1   :  ~9,7 V\n",
    "# ch 2     :  ~12 V (only if power supply is connected)\n",
    "# ch 3     :  0 V\n",
    "# ch 4     :  ~12 V (also if battery only without power supply)\n",
    "# ch 5,6,7 :  ~2,4V (i2c?)\n",
    "\n",
    "import jetbot.ads1115 as ads1115 # import ADS1115\n",
    "adress = os.popen(\"i2cdetect -y -r 1 0x48 0x48 | egrep '48' | awk '{print $2}'\").read()\n",
    "if(adress=='48\\n'):\n",
    "    ads = ads1115.ADS1115()\n",
    "    for channel in range(8):\n",
    "        print(f'channel {channel} {ads.readVoltage(channel)/1000:.2f} volt')\n",
    "else:\n",
    "    ads = None"
   ]
  },
  {
   "cell_type": "code",
   "execution_count": null,
   "metadata": {},
   "outputs": [],
   "source": []
  }
 ],
 "metadata": {
  "kernelspec": {
   "display_name": "Python 3",
   "language": "python",
   "name": "python3"
  },
  "language_info": {
   "codemirror_mode": {
    "name": "ipython",
    "version": 3
   },
   "file_extension": ".py",
   "mimetype": "text/x-python",
   "name": "python",
   "nbconvert_exporter": "python",
   "pygments_lexer": "ipython3",
   "version": "3.6.9"
  }
 },
 "nbformat": 4,
 "nbformat_minor": 4
}
